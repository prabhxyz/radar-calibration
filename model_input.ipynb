{
 "cells": [
  {
   "cell_type": "markdown",
   "source": [
    "## Import libraries and load data"
   ],
   "metadata": {
    "collapsed": false
   },
   "id": "21a9c3a610640c47"
  },
  {
   "cell_type": "code",
   "outputs": [
    {
     "name": "stderr",
     "output_type": "stream",
     "text": [
      "WARNING:absl:Compiled the loaded model, but the compiled metrics have yet to be built. `model.compile_metrics` will be empty until you train or evaluate the model.\n"
     ]
    }
   ],
   "source": [
    "import pandas as pd\n",
    "from tensorflow.keras.models import load_model\n",
    "\n",
    "# Load the trained model\n",
    "model = load_model('models/radar_calibration_model.h5')"
   ],
   "metadata": {
    "collapsed": false,
    "ExecuteTime": {
     "end_time": "2024-03-22T13:51:37.193929Z",
     "start_time": "2024-03-22T13:51:19.777624600Z"
    }
   },
   "id": "df83a9b31e8bb23a",
   "execution_count": 1
  },
  {
   "cell_type": "markdown",
   "source": [
    "## Define the input data"
   ],
   "metadata": {
    "collapsed": false
   },
   "id": "d3c7e864dd8f03f5"
  },
  {
   "cell_type": "code",
   "outputs": [],
   "source": [
    "# Input data\n",
    "example_input = pd.DataFrame({\n",
    "    'azimuth_1': [50],\n",
    "    'elevation_1': [3],\n",
    "    'range_1': [100],\n",
    "    'azimuth_2': [40],\n",
    "    'elevation_2': [2],\n",
    "    'range_2': [150],\n",
    "    'azimuth_3': [60],\n",
    "    'elevation_3': [1],\n",
    "    'range_3': [200]\n",
    "})"
   ],
   "metadata": {
    "collapsed": false,
    "ExecuteTime": {
     "end_time": "2024-03-22T13:54:00.558658Z",
     "start_time": "2024-03-22T13:54:00.544960900Z"
    }
   },
   "id": "c36b967de45444c0",
   "execution_count": 4
  },
  {
   "cell_type": "markdown",
   "source": [
    "## Predict the calibrated radar data"
   ],
   "metadata": {
    "collapsed": false
   },
   "id": "c433974a59c340d3"
  },
  {
   "cell_type": "code",
   "outputs": [
    {
     "name": "stdout",
     "output_type": "stream",
     "text": [
      "\u001B[1m1/1\u001B[0m \u001B[32m━━━━━━━━━━━━━━━━━━━━\u001B[0m\u001B[37m\u001B[0m \u001B[1m0s\u001B[0m 51ms/step\n",
      "Predicted azimuth: 15.968437\n",
      "Predicted elevation: 5.441539\n",
      "Predicted range: 168.35468\n"
     ]
    }
   ],
   "source": [
    "# Make predictions\n",
    "predictions = model.predict(example_input)\n",
    "\n",
    "# Print the predictions\n",
    "print(\"Predicted azimuth:\", predictions[0][0])\n",
    "print(\"Predicted elevation:\", predictions[0][1])\n",
    "print(\"Predicted range:\", predictions[0][2])"
   ],
   "metadata": {
    "collapsed": false,
    "ExecuteTime": {
     "end_time": "2024-03-22T13:54:03.042641300Z",
     "start_time": "2024-03-22T13:54:02.935422700Z"
    }
   },
   "id": "759b2ecd50457716",
   "execution_count": 5
  }
 ],
 "metadata": {
  "kernelspec": {
   "display_name": "Python 3",
   "language": "python",
   "name": "python3"
  },
  "language_info": {
   "codemirror_mode": {
    "name": "ipython",
    "version": 2
   },
   "file_extension": ".py",
   "mimetype": "text/x-python",
   "name": "python",
   "nbconvert_exporter": "python",
   "pygments_lexer": "ipython2",
   "version": "2.7.6"
  }
 },
 "nbformat": 4,
 "nbformat_minor": 5
}
